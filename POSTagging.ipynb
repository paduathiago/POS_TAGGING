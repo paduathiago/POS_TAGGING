{
 "cells": [
  {
   "cell_type": "markdown",
   "metadata": {},
   "source": [
    "# Part-of-Speech Tagging - Thiago Pádua - 2020007066\n",
    "A tarefa de Part-of-Speech Tagging (POS) consiste em rotular palavras de um texto de acordo com a sua classe gramatical, como substantivo, verbo, adjetivo. Esse processo é fundamental para diversas aplicações em Processamento de Linguagem Natural (PLN), pois permite uma compreensão mais detalhada da estrutura sintática e semântica das sentenças.\n",
    "\n",
    "Por exemplo, considere a seguinte frase:\n",
    "\"A raposa azul dorme tranquilamente.\"\n",
    "\n",
    "    \"A\" pode receber a tag de artigo definido.\n",
    "    \"raposa\" pode receber a tag de substantivo.\n",
    "    \"azul\" pode receber a tag de adjetivo.\n",
    "    \"dorme\" pode receber a tag de verbo.\n",
    "    \"tranquilamente\" pode receber a tag de advérbio.\n",
    "\n",
    "Neste trabalho, o objetivo é explorar a tarefa de POS Tagging para a língua portuguesa, utilizando o corpus Mac-Morpho. Além disso, será implementado um modelo capaz de classificar palavras com precisão, analisando como o contexto influencia a atribuição de classes gramaticais. Por fim, investigaremos os desafios e as limitações do processo, discutindo as classes que apresentam maior e menor precisão ao longo do experimento."
   ]
  }
 ],
 "metadata": {
  "language_info": {
   "name": "python"
  }
 },
 "nbformat": 4,
 "nbformat_minor": 2
}
